{
 "cells": [
  {
   "cell_type": "markdown",
   "id": "bff85a46-696b-4a85-83ef-898e85689818",
   "metadata": {},
   "source": [
    "# ADSP common deletion CNV data report"
   ]
  },
  {
   "cell_type": "markdown",
   "id": "639364cf-a11d-457e-a912-65fbef83c9f9",
   "metadata": {},
   "source": [
    "## Load reference genes and common deletion CNV data\n",
    "\n",
    "**Notes**:\n",
    "- ADSP: Alzheimer's Disease Sequencing Project\n",
    "- Reference genes: hg19 reference genes from UCSC\n",
    "- `hq` within the CNV data file name means \"high qulaity\""
   ]
  },
  {
   "cell_type": "code",
   "execution_count": 1,
   "id": "ad5ab949-550e-40fa-9f06-32aeeeecf98a",
   "metadata": {},
   "outputs": [],
   "source": [
    "import pandas as pd\n",
    "import numpy as np\n",
    "import os\n",
    "from collections import Counter\n",
    "import matplotlib.pyplot as plt\n",
    "\n",
    "# Load data\n",
    "cwd = os.path.expanduser(\"~/cnv-project/adsp_real_data\")\n",
    "ref_gene = pd.read_csv(f\"{cwd}/refGene.clean.gz\", compression = \"gzip\", sep = \"\\t\", header = 0)\n",
    "del_comm_cnv = pd.read_csv(f\"{cwd}/raw_data/del_comm_adsp_hq.gz\", compression=\"gzip\", sep=\"\\t\")\n",
    "del_comm_cnv = del_comm_cnv.drop(columns=[\"COUNTED\",\"ALT\"])\n",
    "del_comm_cnv.iloc[:,0] = del_comm_cnv.iloc[:,0].str.replace('chr','')"
   ]
  },
  {
   "cell_type": "code",
   "execution_count": 2,
   "id": "71127fae-c3fc-4b36-a8d6-4a578b95bbc4",
   "metadata": {},
   "outputs": [
    {
     "data": {
      "text/html": [
       "<div>\n",
       "<style scoped>\n",
       "    .dataframe tbody tr th:only-of-type {\n",
       "        vertical-align: middle;\n",
       "    }\n",
       "\n",
       "    .dataframe tbody tr th {\n",
       "        vertical-align: top;\n",
       "    }\n",
       "\n",
       "    .dataframe thead th {\n",
       "        text-align: right;\n",
       "    }\n",
       "</style>\n",
       "<table border=\"1\" class=\"dataframe\">\n",
       "  <thead>\n",
       "    <tr style=\"text-align: right;\">\n",
       "      <th></th>\n",
       "      <th>CHR</th>\n",
       "      <th>SNP</th>\n",
       "      <th>CM</th>\n",
       "      <th>POS</th>\n",
       "      <th>0:A-ACT-AC000014-BL-NCR-15AD78694</th>\n",
       "      <th>0:A-ACT-AC000034-BL-NCR-16AD84906</th>\n",
       "      <th>0:A-ACT-AC000057-BL-NCR-15AD78356</th>\n",
       "      <th>0:A-ACT-AC000072-BL-NCR-15AD77250</th>\n",
       "      <th>0:A-ACT-AC000088-BL-NCR-15AD76548</th>\n",
       "      <th>0:A-ACT-AC000092-BL-NCR-15AD78589</th>\n",
       "      <th>...</th>\n",
       "      <th>0:G-MSBB-MB000331-BR-MSBB-71993</th>\n",
       "      <th>0:G-MSBB-MB000332-BR-MSBB-71994</th>\n",
       "      <th>0:G-MSBB-MB000333-BR-MSBB-71995</th>\n",
       "      <th>0:G-MSBB-MB000334-BR-MSBB-71996</th>\n",
       "      <th>0:G-MSBB-MB000335-BR-MSBB-74458</th>\n",
       "      <th>0:G-MSBB-MB000337-BR-MSBB-76349</th>\n",
       "      <th>0:G-MSBB-MB000338-BR-MSBB-76350</th>\n",
       "      <th>0:G-MSBB-MB000339-BR-MSBB-76351</th>\n",
       "      <th>0:G-MSBB-MB000340-BR-MSBB-76352</th>\n",
       "      <th>0:G-MSBB-MB000341-BR-MSBB-76353</th>\n",
       "    </tr>\n",
       "  </thead>\n",
       "  <tbody>\n",
       "    <tr>\n",
       "      <th>0</th>\n",
       "      <td>22</td>\n",
       "      <td>chr22:10710932-10711692:DEL:COVERAGE:comm</td>\n",
       "      <td>10710932</td>\n",
       "      <td>10711692</td>\n",
       "      <td>1.0</td>\n",
       "      <td>0.0</td>\n",
       "      <td>1.0</td>\n",
       "      <td>1.0</td>\n",
       "      <td>1.0</td>\n",
       "      <td>0.0</td>\n",
       "      <td>...</td>\n",
       "      <td>NaN</td>\n",
       "      <td>1.0</td>\n",
       "      <td>1.0</td>\n",
       "      <td>1.0</td>\n",
       "      <td>1.0</td>\n",
       "      <td>0.0</td>\n",
       "      <td>1.0</td>\n",
       "      <td>NaN</td>\n",
       "      <td>1.0</td>\n",
       "      <td>1.0</td>\n",
       "    </tr>\n",
       "    <tr>\n",
       "      <th>1</th>\n",
       "      <td>22</td>\n",
       "      <td>chr22:10720746-10721165:DEL:COVERAGE:comm</td>\n",
       "      <td>10720746</td>\n",
       "      <td>10721165</td>\n",
       "      <td>1.0</td>\n",
       "      <td>1.0</td>\n",
       "      <td>1.0</td>\n",
       "      <td>NaN</td>\n",
       "      <td>1.0</td>\n",
       "      <td>1.0</td>\n",
       "      <td>...</td>\n",
       "      <td>1.0</td>\n",
       "      <td>1.0</td>\n",
       "      <td>NaN</td>\n",
       "      <td>1.0</td>\n",
       "      <td>NaN</td>\n",
       "      <td>1.0</td>\n",
       "      <td>1.0</td>\n",
       "      <td>1.0</td>\n",
       "      <td>1.0</td>\n",
       "      <td>1.0</td>\n",
       "    </tr>\n",
       "    <tr>\n",
       "      <th>2</th>\n",
       "      <td>22</td>\n",
       "      <td>chr22:10740324-10746330:DEL:AGGREGATED:comm</td>\n",
       "      <td>10740324</td>\n",
       "      <td>10746330</td>\n",
       "      <td>0.0</td>\n",
       "      <td>0.0</td>\n",
       "      <td>0.0</td>\n",
       "      <td>NaN</td>\n",
       "      <td>0.0</td>\n",
       "      <td>NaN</td>\n",
       "      <td>...</td>\n",
       "      <td>NaN</td>\n",
       "      <td>0.0</td>\n",
       "      <td>0.0</td>\n",
       "      <td>0.0</td>\n",
       "      <td>0.0</td>\n",
       "      <td>0.0</td>\n",
       "      <td>0.0</td>\n",
       "      <td>0.0</td>\n",
       "      <td>0.0</td>\n",
       "      <td>0.0</td>\n",
       "    </tr>\n",
       "  </tbody>\n",
       "</table>\n",
       "<p>3 rows × 12912 columns</p>\n",
       "</div>"
      ],
      "text/plain": [
       "  CHR                                          SNP        CM       POS  \\\n",
       "0  22    chr22:10710932-10711692:DEL:COVERAGE:comm  10710932  10711692   \n",
       "1  22    chr22:10720746-10721165:DEL:COVERAGE:comm  10720746  10721165   \n",
       "2  22  chr22:10740324-10746330:DEL:AGGREGATED:comm  10740324  10746330   \n",
       "\n",
       "   0:A-ACT-AC000014-BL-NCR-15AD78694  0:A-ACT-AC000034-BL-NCR-16AD84906  \\\n",
       "0                                1.0                                0.0   \n",
       "1                                1.0                                1.0   \n",
       "2                                0.0                                0.0   \n",
       "\n",
       "   0:A-ACT-AC000057-BL-NCR-15AD78356  0:A-ACT-AC000072-BL-NCR-15AD77250  \\\n",
       "0                                1.0                                1.0   \n",
       "1                                1.0                                NaN   \n",
       "2                                0.0                                NaN   \n",
       "\n",
       "   0:A-ACT-AC000088-BL-NCR-15AD76548  0:A-ACT-AC000092-BL-NCR-15AD78589  ...  \\\n",
       "0                                1.0                                0.0  ...   \n",
       "1                                1.0                                1.0  ...   \n",
       "2                                0.0                                NaN  ...   \n",
       "\n",
       "   0:G-MSBB-MB000331-BR-MSBB-71993  0:G-MSBB-MB000332-BR-MSBB-71994  \\\n",
       "0                              NaN                              1.0   \n",
       "1                              1.0                              1.0   \n",
       "2                              NaN                              0.0   \n",
       "\n",
       "   0:G-MSBB-MB000333-BR-MSBB-71995  0:G-MSBB-MB000334-BR-MSBB-71996  \\\n",
       "0                              1.0                              1.0   \n",
       "1                              NaN                              1.0   \n",
       "2                              0.0                              0.0   \n",
       "\n",
       "   0:G-MSBB-MB000335-BR-MSBB-74458  0:G-MSBB-MB000337-BR-MSBB-76349  \\\n",
       "0                              1.0                              0.0   \n",
       "1                              NaN                              1.0   \n",
       "2                              0.0                              0.0   \n",
       "\n",
       "   0:G-MSBB-MB000338-BR-MSBB-76350  0:G-MSBB-MB000339-BR-MSBB-76351  \\\n",
       "0                              1.0                              NaN   \n",
       "1                              1.0                              1.0   \n",
       "2                              0.0                              0.0   \n",
       "\n",
       "   0:G-MSBB-MB000340-BR-MSBB-76352  0:G-MSBB-MB000341-BR-MSBB-76353  \n",
       "0                              1.0                              1.0  \n",
       "1                              1.0                              1.0  \n",
       "2                              0.0                              0.0  \n",
       "\n",
       "[3 rows x 12912 columns]"
      ]
     },
     "execution_count": 2,
     "metadata": {},
     "output_type": "execute_result"
    }
   ],
   "source": [
    "# Preview of CNV data\n",
    "del_comm_cnv.head(3)"
   ]
  },
  {
   "cell_type": "markdown",
   "id": "7b15bc59-7b6b-49af-9678-eff9e0c1be0b",
   "metadata": {},
   "source": [
    "**Explanation**:\n",
    "\n",
    "- Each row represents CNVs and each column starting from the fifth column means individuals\n",
    "- \"CM\", \"POS\": Start point and end point of a CNV, respectively.\n",
    "- \"0:A-ACT-xxxxx\": sample_id for an individual"
   ]
  },
  {
   "cell_type": "code",
   "execution_count": 3,
   "id": "47942826-4a33-4622-b919-c35207d8c7bf",
   "metadata": {},
   "outputs": [
    {
     "data": {
      "text/html": [
       "<div>\n",
       "<style scoped>\n",
       "    .dataframe tbody tr th:only-of-type {\n",
       "        vertical-align: middle;\n",
       "    }\n",
       "\n",
       "    .dataframe tbody tr th {\n",
       "        vertical-align: top;\n",
       "    }\n",
       "\n",
       "    .dataframe thead th {\n",
       "        text-align: right;\n",
       "    }\n",
       "</style>\n",
       "<table border=\"1\" class=\"dataframe\">\n",
       "  <thead>\n",
       "    <tr style=\"text-align: right;\">\n",
       "      <th></th>\n",
       "      <th>CHR</th>\n",
       "      <th>start</th>\n",
       "      <th>end</th>\n",
       "      <th>gene</th>\n",
       "    </tr>\n",
       "  </thead>\n",
       "  <tbody>\n",
       "    <tr>\n",
       "      <th>0</th>\n",
       "      <td>1</td>\n",
       "      <td>11868</td>\n",
       "      <td>14362</td>\n",
       "      <td>LOC102725121@1</td>\n",
       "    </tr>\n",
       "    <tr>\n",
       "      <th>1</th>\n",
       "      <td>1</td>\n",
       "      <td>11873</td>\n",
       "      <td>14409</td>\n",
       "      <td>DDX11L1</td>\n",
       "    </tr>\n",
       "    <tr>\n",
       "      <th>2</th>\n",
       "      <td>1</td>\n",
       "      <td>14361</td>\n",
       "      <td>29370</td>\n",
       "      <td>WASH7P</td>\n",
       "    </tr>\n",
       "  </tbody>\n",
       "</table>\n",
       "</div>"
      ],
      "text/plain": [
       "  CHR  start    end            gene\n",
       "0   1  11868  14362  LOC102725121@1\n",
       "1   1  11873  14409         DDX11L1\n",
       "2   1  14361  29370          WASH7P"
      ]
     },
     "execution_count": 3,
     "metadata": {},
     "output_type": "execute_result"
    }
   ],
   "source": [
    "# Preview of ref_gene\n",
    "ref_gene.head(3)"
   ]
  },
  {
   "cell_type": "markdown",
   "id": "94544e0e-e7b3-4ecc-8006-ee9723eb0128",
   "metadata": {},
   "source": [
    "## Distribution of NA values \n",
    "\n",
    "- This is a simple step for quality control even if the CNV data has a \"high quality\". \n",
    "- The goal for this step is for finding an appropraite cutoff for removing individuals having high proportion of NAs across their genomes."
   ]
  },
  {
   "cell_type": "code",
   "execution_count": 8,
   "id": "9db9faa5-b420-4934-87d3-6afabcfc5ad6",
   "metadata": {},
   "outputs": [
    {
     "data": {
      "image/png": "[encoded data removed]",
      "text/plain": [
       "<Figure size 1000x600 with 1 Axes>"
      ]
     },
     "metadata": {},
     "output_type": "display_data"
    }
   ],
   "source": [
    "individuals = del_comm_cnv.columns[4:]\n",
    "prop_na_list = [del_comm_cnv[indv].isna().sum() / del_comm_cnv.shape[0] for indv in individuals]\n",
    "\n",
    "# Plot distribution for proportions of NAs \n",
    "plt.figure(figsize=(10, 6))\n",
    "plt.hist(prop_na_list, bins=50, edgecolor='black', alpha=0.7, density=True)\n",
    "plt.grid(axis='y', linestyle='--', alpha=0.7)\n",
    "plt.xlabel(\"Proportion of NAs\")\n",
    "plt.ylabel(\"Density\")\n",
    "plt.title(\"Distribution of Proportion of NAs\")\n",
    "plt.tight_layout()  \n",
    "plt.show()"
   ]
  },
  {
   "cell_type": "code",
   "execution_count": 11,
   "id": "01aaa2ac-5dcb-4b09-92be-c743a628ba2d",
   "metadata": {},
   "outputs": [
    {
     "name": "stdout",
     "output_type": "stream",
     "text": [
      "10th percentile: 0.127\n",
      "25th percentile: 0.138\n",
      "50th percentile: 0.15\n",
      "75th percentile: 0.165\n",
      "90th percentile: 0.198\n"
     ]
    }
   ],
   "source": [
    "# Percentiles for the proportions\n",
    "for p in [10, 25, 50, 75, 90]:\n",
    "    value = np.percentile(prop_na_list, p)\n",
    "    print(f\"{p}th percentile: {np.round(value,3)}\")"
   ]
  },
  {
   "cell_type": "markdown",
   "id": "37620fc8-2656-48ee-98a2-4c7d19fba090",
   "metadata": {},
   "source": [
    "**Conclusion**: We decide to remove individuals having more than 20% NAs (in a column)."
   ]
  },
  {
   "cell_type": "code",
   "execution_count": 14,
   "id": "48ba2321-1ab5-48c9-85be-c1237aadf1ec",
   "metadata": {},
   "outputs": [],
   "source": [
    "cutoff = 0.2\n",
    "indv_to_keep = [index for index, element in enumerate(prop_na_list) if element <= cutoff]\n",
    "del_comm_cnv = del_comm_cnv.iloc[:,indv_to_keep]\n",
    "\n",
    "# Divide CNV data into 2 parts: \n",
    "# CNV events: First 4 columns and \n",
    "# individuals: \"SNP\" column and rest of sample IDs \n",
    "cnv_events = del_comm_cnv[[\"CHR\",\"SNP\",\"CM\",\"POS\"]]\n",
    "cnv_indvs = del_comm_cnv.iloc[:,[1,*range(4,del_comm_cnv.shape[1])]] "
   ]
  },
  {
   "cell_type": "markdown",
   "id": "fc159511-5bd9-4d36-a9d2-ac40c965e561",
   "metadata": {},
   "source": [
    "## Summary of CNV data"
   ]
  },
  {
   "cell_type": "code",
   "execution_count": 15,
   "id": "d2ceaab9-f365-4436-b2aa-fde01ca61bed",
   "metadata": {},
   "outputs": [
    {
     "name": "stdout",
     "output_type": "stream",
     "text": [
      "count       9366.0\n",
      "mean        4805.6\n",
      "std        88111.2\n",
      "min            1.0\n",
      "25%           81.0\n",
      "50%          225.0\n",
      "75%          706.2\n",
      "max      4950897.0\n",
      "Name: size, dtype: float64\n"
     ]
    }
   ],
   "source": [
    "# Add a column printing the size of a CNV event\n",
    "pd.set_option('mode.chained_assignment', None) # Suppress warning\n",
    "cnv_events.loc[:, 'size'] = cnv_events['POS'] - cnv_events['CM']\n",
    "print(cnv_events['size'].describe().round(1))"
   ]
  },
  {
   "cell_type": "markdown",
   "id": "5dd9bf54-34b7-4472-92db-2ae60bce4685",
   "metadata": {},
   "source": [
    "**Conclusion**: \n",
    "\n",
    "- 9,366 CNVs which are common deletions\n",
    "- Most of CNVs have a short length"
   ]
  },
  {
   "cell_type": "code",
   "execution_count": 18,
   "id": "5fc9f4e4-dea8-434b-b3a0-192cb254b2ba",
   "metadata": {},
   "outputs": [
    {
     "name": "stdout",
     "output_type": "stream",
     "text": [
      "Chromosomes are: ['1' '10' '11' '12' '13' '14' '15' '16' '17' '18' '19' '2' '20' '21' '22'\n",
      " '3' '4' '5' '6' '7' '8' '9']\n",
      "Are START points for each CNV in all chromosomes sorted in ascending order? ->  True\n",
      "Are END points for each CNV in all chromosomes sorted in ascending order? ->  False\n"
     ]
    }
   ],
   "source": [
    "# Explore features for each column\n",
    "cnv_events = cnv_events.sort_values(by = ['CHR','CM','POS'])\n",
    "print(f\"Chromosomes are: {cnv_events['CHR'].unique()}\")\n",
    "print(\"Are START points for each CNV in all chromosomes sorted in ascending order? -> \",\n",
    "      all([(cnv_events[cnv_events['CHR'] == f'{i}'])['CM'].is_monotonic_increasing for i in cnv_events['CHR'].unique()])\n",
    "     )\n",
    "print(\"Are END points for each CNV in all chromosomes sorted in ascending order? -> \",\n",
    "      all([(cnv_events[cnv_events['CHR'] == f'{i}'])['POS'].is_monotonic_increasing for i in cnv_events['CHR'].unique()])\n",
    "     )"
   ]
  },
  {
   "cell_type": "markdown",
   "id": "df83bbf8-26e5-4946-9c60-481af2c73cbe",
   "metadata": {},
   "source": [
    "## Partition whole genome into blocks\n",
    "\n",
    "- In our simulation, we divide the whole genome into blocks for reducing computational burden.\n",
    "\n",
    "**Rules**:\n",
    "- A block contains CNV events overlapping with each other.\n",
    "- Any CNV in two seperate blocks don't overlap with each other. "
   ]
  },
  {
   "cell_type": "code",
   "execution_count": 19,
   "id": "37da23a6-3f4b-41a8-a091-62e376061940",
   "metadata": {},
   "outputs": [],
   "source": [
    "def is_overlapping(row1, row2):\n",
    "    return (row1[\"CM\"] >= row2[\"CM\"] and row1[\"CM\"] <= row2[\"POS\"]) or \\\n",
    "           (row1[\"CM\"] <= row2[\"CM\"] and row1[\"POS\"] >= row2[\"POS\"]) or \\\n",
    "           (row1[\"POS\"] >= row2[\"CM\"] and row1[\"POS\"] <= row2[\"POS\"])\n",
    "\n",
    "def partition_into_blocks(df):\n",
    "    df = df.sort_values(by=\"CM\").reset_index(drop=True)\n",
    "    blocks = []\n",
    "    current_block = [df.iloc[0]]\n",
    "\n",
    "    for i in range(1, len(df)):\n",
    "        row = df.iloc[i]\n",
    "        \n",
    "        # Check if current row overlaps with all rows in current block\n",
    "        if all(is_overlapping(row, block_row) for block_row in current_block):\n",
    "            current_block.append(row)\n",
    "        else:\n",
    "            blocks.append(current_block)\n",
    "            current_block = [row]\n",
    "    \n",
    "    if current_block:  # Add any remaining rows in the current block to the blocks list\n",
    "        blocks.append(current_block)\n",
    "\n",
    "    # Convert list of dataframes to a list of indices\n",
    "    blocks = [[row.name for row in block] for block in blocks]\n",
    "\n",
    "    return df, blocks\n",
    "\n",
    "cnv_sorted, blocks = partition_into_blocks(cnv_events)"
   ]
  },
  {
   "cell_type": "code",
   "execution_count": 20,
   "id": "546b68db-9757-4c96-8454-a3dd7fcfa675",
   "metadata": {
    "tags": []
   },
   "outputs": [
    {
     "data": {
      "text/plain": [
       "Counter({1: 8061, 2: 560, 3: 48, 4: 8, 9: 1})"
      ]
     },
     "execution_count": 20,
     "metadata": {},
     "output_type": "execute_result"
    }
   ],
   "source": [
    "# Quick view of block sizes\n",
    "block_sizes = [len(block) for block in blocks]\n",
    "Counter(block_sizes)"
   ]
  },
  {
   "cell_type": "markdown",
   "id": "f7d57a80-f58f-4831-be6e-3e8daebbf196",
   "metadata": {},
   "source": [
    "### Distribution of block sizes\n",
    "\n",
    "- Block size: number of CNVs in a block"
   ]
  },
  {
   "cell_type": "code",
   "execution_count": 21,
   "id": "f7e17b52-a225-4cb6-8681-eb222a9e8fc1",
   "metadata": {},
   "outputs": [
    {
     "data": {
      "image/png": "[encoded data removed]",
      "text/plain": [
       "<Figure size 640x480 with 1 Axes>"
      ]
     },
     "metadata": {},
     "output_type": "display_data"
    }
   ],
   "source": [
    "import matplotlib.pyplot as plt\n",
    "\n",
    "# Get the sizes of each block\n",
    "block_sizes = [len(block) for block in blocks]\n",
    "\n",
    "# Plot the histogram\n",
    "fig, ax = plt.subplots()\n",
    "n, bins, patches = ax.hist(block_sizes, bins=range(1, max(block_sizes) + 2), align='left', rwidth=0.8)\n",
    "plt.xlabel('Block Size')\n",
    "plt.ylabel('Frequency')\n",
    "plt.title(f'Distribution of Block Sizes (Total #CNV: {cnv_sorted.shape[0]})')\n",
    "plt.xticks(range(1, max(block_sizes) + 1))\n",
    "\n",
    "# Adding counts above each bar\n",
    "for i, patch in enumerate(patches):\n",
    "    height = patch.get_height()\n",
    "    ax.text(patch.get_x() + patch.get_width() / 2., height + 0.3, \n",
    "            f'{int(height)}', ha='center', va='center')\n",
    "\n",
    "#plt.savefig(f\"{cwd}/dist_blk_size.png\", format='png')\n",
    "plt.show()\n",
    "\n"
   ]
  },
  {
   "cell_type": "markdown",
   "id": "b608f87e-e3d2-44a8-842b-b33719973e85",
   "metadata": {},
   "source": [
    "### Distribution of block coverage\n",
    "\n",
    "- Number of genes disrupted by CNVs in a block"
   ]
  },
  {
   "cell_type": "code",
   "execution_count": 22,
   "id": "363d095e-b359-4d77-9d75-90263ba51109",
   "metadata": {},
   "outputs": [
    {
     "data": {
      "image/png": "[encoded data removed]",
      "text/plain": [
       "<Figure size 1500x500 with 1 Axes>"
      ]
     },
     "metadata": {},
     "output_type": "display_data"
    }
   ],
   "source": [
    "ref_gene = ref_gene[ref_gene['CHR'] != 'X'] # Since CNV data doesn't have sex chromosome,we drop X chr in ref_gene\n",
    "\n",
    "def genes_in_block(genes, block):\n",
    "    cnv = cnv_sorted.iloc[block]\n",
    "    df = cnv.merge(genes, on='CHR', how='left')\n",
    "    res = df[(df['CM'] >= df['start']) & (df['CM'] <= df['end'])\n",
    "            |(df['POS'] >= df['start']) & (df['POS'] <= df['end'])\n",
    "            |(df['CM'] <= df['start']) & (df['POS'] >= df['end'])\n",
    "            ]\n",
    "    return(len(res['gene'].unique()))\n",
    "\n",
    "num_gene_in_block = [genes_in_block(ref_gene, blk) for blk in blocks]\n",
    "\n",
    "\n",
    "plt.figure(figsize=(15, 5))  # Adjust the figure size for better visualization\n",
    "plt.bar(list(range(len(blocks))), num_gene_in_block, width=1)\n",
    "plt.xlabel('Blocks')\n",
    "plt.ylabel('Num. of genes in a block')\n",
    "plt.title('Block coverage')\n",
    "#plt.savefig(f\"{cwd}/dist_blk_cvg.png\", format='png')\n",
    "plt.show()"
   ]
  },
  {
   "cell_type": "markdown",
   "id": "bfa8d3e7-2355-4a76-a771-7b8b4765036f",
   "metadata": {},
   "source": [
    "We can see very few number of blocks having many genes inside it, and most of blocks have 1 or no gene. Thus, we have a large number of blocks and the computation burden cannot be reduced under this setting. In other words, ADSP data is unlikely a good fit to our method."
   ]
  },
  {
   "cell_type": "code",
   "execution_count": null,
   "id": "d9627b72-bbab-4ca1-9b28-7e1aaf2be6df",
   "metadata": {},
   "outputs": [],
   "source": []
  }
 ],
 "metadata": {
  "kernelspec": {
   "display_name": "Python 3 (ipykernel)",
   "language": "python",
   "name": "python3"
  },
  "language_info": {
   "codemirror_mode": {
    "name": "ipython",
    "version": 3
   },
   "file_extension": ".py",
   "mimetype": "text/x-python",
   "name": "python",
   "nbconvert_exporter": "python",
   "pygments_lexer": "ipython3",
   "version": "3.8.5"
  }
 },
 "nbformat": 4,
 "nbformat_minor": 5
}
