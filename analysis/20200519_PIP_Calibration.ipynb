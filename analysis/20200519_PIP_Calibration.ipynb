{
 "cells": [
  {
   "cell_type": "markdown",
   "metadata": {
    "kernel": "SoS"
   },
   "source": [
    "# PIP calibration\n",
    "- A well calibrated method should produce points near the `y = x` line.\n",
    "- dots (>0, 0) means the true effects for all genes in that bin are 0 (not signal), but at least one PIP is greater than 0, false positive.\n",
    "- dots (>0, 1) means missed at least one gene with effect, false negative.\n",
    "- Missing points means there is no gene with PIP in that bin/range."
   ]
  },
  {
   "cell_type": "code",
   "execution_count": 1,
   "metadata": {
    "kernel": "SoS"
   },
   "outputs": [
    {
     "name": "stderr",
     "output_type": "stream",
     "text": [
      "\n",
      "********************************************************\n",
      "\n",
      "Note: As of version 1.0.0, cowplot does not change the\n",
      "\n",
      "  default ggplot2 theme anymore. To recover the previous\n",
      "\n",
      "  behavior, execute:\n",
      "  theme_set(theme_cowplot())\n",
      "\n",
      "********************************************************\n",
      "\n",
      "\n",
      "\n",
      "Attaching package: ‘dplyr’\n",
      "\n",
      "\n",
      "The following objects are masked from ‘package:stats’:\n",
      "\n",
      "    filter, lag\n",
      "\n",
      "\n",
      "The following objects are masked from ‘package:base’:\n",
      "\n",
      "    intersect, setdiff, setequal, union\n",
      "\n",
      "\n"
     ]
    }
   ],
   "source": [
    "library(ggplot2)\n",
    "library(cowplot)\n",
    "library(dplyr)"
   ]
  },
  {
   "cell_type": "markdown",
   "metadata": {},
   "source": [
    "## Use blocks with at least one effect\n",
    "- 985 genes\n",
    "- 88 blocks"
   ]
  },
  {
   "cell_type": "code",
   "execution_count": 2,
   "metadata": {
    "kernel": "SoS"
   },
   "outputs": [],
   "source": [
    "dat = readRDS(\"/home/min/GIT/cnv-gene-mapping/data/deletion_simu_30_shape0.777_scale0.843/PIP_calib_block_with_effect.rds\")"
   ]
  },
  {
   "cell_type": "code",
   "execution_count": 3,
   "metadata": {
    "kernel": "SoS"
   },
   "outputs": [
    {
     "data": {
      "text/html": [
       "<table>\n",
       "<caption>A data.frame: 6 × 5</caption>\n",
       "<thead>\n",
       "\t<tr><th></th><th scope=col>logit</th><th scope=col>logit1</th><th scope=col>susie</th><th scope=col>pymc3_new</th><th scope=col>is_signal</th></tr>\n",
       "\t<tr><th></th><th scope=col>&lt;dbl&gt;</th><th scope=col>&lt;dbl&gt;</th><th scope=col>&lt;dbl&gt;</th><th scope=col>&lt;dbl&gt;</th><th scope=col>&lt;dbl&gt;</th></tr>\n",
       "</thead>\n",
       "<tbody>\n",
       "\t<tr><th scope=row>0</th><td>0.125</td><td>0.015036</td><td>0</td><td>0.0174</td><td>0</td></tr>\n",
       "\t<tr><th scope=row>1</th><td>0.125</td><td>0.015036</td><td>0</td><td>0.0139</td><td>0</td></tr>\n",
       "\t<tr><th scope=row>2</th><td>0.125</td><td>0.015036</td><td>0</td><td>0.0174</td><td>0</td></tr>\n",
       "\t<tr><th scope=row>3</th><td>0.125</td><td>0.015036</td><td>0</td><td>0.0168</td><td>0</td></tr>\n",
       "\t<tr><th scope=row>4</th><td>0.125</td><td>0.015036</td><td>0</td><td>0.0190</td><td>1</td></tr>\n",
       "\t<tr><th scope=row>5</th><td>0.125</td><td>0.015036</td><td>0</td><td>0.0184</td><td>0</td></tr>\n",
       "</tbody>\n",
       "</table>\n"
      ],
      "text/latex": [
       "A data.frame: 6 × 5\n",
       "\\begin{tabular}{r|lllll}\n",
       "  & logit & logit1 & susie & pymc3\\_new & is\\_signal\\\\\n",
       "  & <dbl> & <dbl> & <dbl> & <dbl> & <dbl>\\\\\n",
       "\\hline\n",
       "\t0 & 0.125 & 0.015036 & 0 & 0.0174 & 0\\\\\n",
       "\t1 & 0.125 & 0.015036 & 0 & 0.0139 & 0\\\\\n",
       "\t2 & 0.125 & 0.015036 & 0 & 0.0174 & 0\\\\\n",
       "\t3 & 0.125 & 0.015036 & 0 & 0.0168 & 0\\\\\n",
       "\t4 & 0.125 & 0.015036 & 0 & 0.0190 & 1\\\\\n",
       "\t5 & 0.125 & 0.015036 & 0 & 0.0184 & 0\\\\\n",
       "\\end{tabular}\n"
      ],
      "text/markdown": [
       "\n",
       "A data.frame: 6 × 5\n",
       "\n",
       "| <!--/--> | logit &lt;dbl&gt; | logit1 &lt;dbl&gt; | susie &lt;dbl&gt; | pymc3_new &lt;dbl&gt; | is_signal &lt;dbl&gt; |\n",
       "|---|---|---|---|---|---|\n",
       "| 0 | 0.125 | 0.015036 | 0 | 0.0174 | 0 |\n",
       "| 1 | 0.125 | 0.015036 | 0 | 0.0139 | 0 |\n",
       "| 2 | 0.125 | 0.015036 | 0 | 0.0174 | 0 |\n",
       "| 3 | 0.125 | 0.015036 | 0 | 0.0168 | 0 |\n",
       "| 4 | 0.125 | 0.015036 | 0 | 0.0190 | 1 |\n",
       "| 5 | 0.125 | 0.015036 | 0 | 0.0184 | 0 |\n",
       "\n"
      ],
      "text/plain": [
       "  logit logit1   susie pymc3_new is_signal\n",
       "0 0.125 0.015036 0     0.0174    0        \n",
       "1 0.125 0.015036 0     0.0139    0        \n",
       "2 0.125 0.015036 0     0.0174    0        \n",
       "3 0.125 0.015036 0     0.0168    0        \n",
       "4 0.125 0.015036 0     0.0190    1        \n",
       "5 0.125 0.015036 0     0.0184    0        "
      ]
     },
     "metadata": {},
     "output_type": "display_data"
    }
   ],
   "source": [
    "head(dat)"
   ]
  },
  {
   "cell_type": "code",
   "execution_count": 4,
   "metadata": {
    "kernel": "SoS"
   },
   "outputs": [],
   "source": [
    "bin_size = 10\n",
    "bins = cbind(seq(1:bin_size)/bin_size-1/bin_size, seq(1:bin_size)/bin_size)"
   ]
  },
  {
   "cell_type": "code",
   "execution_count": 5,
   "metadata": {},
   "outputs": [
    {
     "data": {
      "text/html": [
       "<table>\n",
       "<caption>A matrix: 10 × 2 of type dbl</caption>\n",
       "<tbody>\n",
       "\t<tr><td>0.0</td><td>0.1</td></tr>\n",
       "\t<tr><td>0.1</td><td>0.2</td></tr>\n",
       "\t<tr><td>0.2</td><td>0.3</td></tr>\n",
       "\t<tr><td>0.3</td><td>0.4</td></tr>\n",
       "\t<tr><td>0.4</td><td>0.5</td></tr>\n",
       "\t<tr><td>0.5</td><td>0.6</td></tr>\n",
       "\t<tr><td>0.6</td><td>0.7</td></tr>\n",
       "\t<tr><td>0.7</td><td>0.8</td></tr>\n",
       "\t<tr><td>0.8</td><td>0.9</td></tr>\n",
       "\t<tr><td>0.9</td><td>1.0</td></tr>\n",
       "</tbody>\n",
       "</table>\n"
      ],
      "text/latex": [
       "A matrix: 10 × 2 of type dbl\n",
       "\\begin{tabular}{ll}\n",
       "\t 0.0 & 0.1\\\\\n",
       "\t 0.1 & 0.2\\\\\n",
       "\t 0.2 & 0.3\\\\\n",
       "\t 0.3 & 0.4\\\\\n",
       "\t 0.4 & 0.5\\\\\n",
       "\t 0.5 & 0.6\\\\\n",
       "\t 0.6 & 0.7\\\\\n",
       "\t 0.7 & 0.8\\\\\n",
       "\t 0.8 & 0.9\\\\\n",
       "\t 0.9 & 1.0\\\\\n",
       "\\end{tabular}\n"
      ],
      "text/markdown": [
       "\n",
       "A matrix: 10 × 2 of type dbl\n",
       "\n",
       "| 0.0 | 0.1 |\n",
       "| 0.1 | 0.2 |\n",
       "| 0.2 | 0.3 |\n",
       "| 0.3 | 0.4 |\n",
       "| 0.4 | 0.5 |\n",
       "| 0.5 | 0.6 |\n",
       "| 0.6 | 0.7 |\n",
       "| 0.7 | 0.8 |\n",
       "| 0.8 | 0.9 |\n",
       "| 0.9 | 1.0 |\n",
       "\n"
      ],
      "text/plain": [
       "      [,1] [,2]\n",
       " [1,] 0.0  0.1 \n",
       " [2,] 0.1  0.2 \n",
       " [3,] 0.2  0.3 \n",
       " [4,] 0.3  0.4 \n",
       " [5,] 0.4  0.5 \n",
       " [6,] 0.5  0.6 \n",
       " [7,] 0.6  0.7 \n",
       " [8,] 0.7  0.8 \n",
       " [9,] 0.8  0.9 \n",
       "[10,] 0.9  1.0 "
      ]
     },
     "metadata": {},
     "output_type": "display_data"
    }
   ],
   "source": [
    "bins"
   ]
  },
  {
   "cell_type": "code",
   "execution_count": 6,
   "metadata": {},
   "outputs": [],
   "source": [
    "calc_pip = function(data) {\n",
    "    pip_cali = list()\n",
    "    for (name in rev(colnames(data))[-1]) {\n",
    "        for (i in 1:nrow(bins)) {\n",
    "            tmp = data[which(data[[name]] >= bins[i,1] & data[[name]] < bins[i,2]), ]\n",
    "            pip_cali[[name]] = rbind(pip_cali[[name]], c(sum(tmp[[name]]), sum(tmp$is_signal), length(tmp$is_signal)))\n",
    "        }\n",
    "        #pip_cali[[name]][which(is.na(pip_cali[[name]]))] = 0 \n",
    "    }\n",
    "    return(pip_cali)\n",
    "}"
   ]
  },
  {
   "cell_type": "code",
   "execution_count": 6,
   "metadata": {},
   "outputs": [],
   "source": [
    "pip_cali = calc_pip(dat)"
   ]
  },
  {
   "cell_type": "code",
   "execution_count": 7,
   "metadata": {
    "kernel": "SoS"
   },
   "outputs": [],
   "source": [
    "get_cali = function(alist, col) {\n",
    "    res = alist[[col]]\n",
    "    if (!is.null(alist[[col]])) res = res + alist[[col]]\n",
    "    res[,c(1,2)] = res[,c(1,2)] / res[,3]\n",
    "    return(res)\n",
    "}"
   ]
  },
  {
   "cell_type": "code",
   "execution_count": 15,
   "metadata": {
    "kernel": "SoS"
   },
   "outputs": [],
   "source": [
    "res = list(\"susie\" = get_cali(pip_cali, 'susie'),\n",
    "             \"logit\" = get_cali(pip_cali, 'logit'),\n",
    "             \"logit_regional\" = get_cali(pip_cali, 'logit1'),\n",
    "             \"pymc3\" = get_cali(pip_cali, 'pymc3_new'))"
   ]
  },
  {
   "cell_type": "code",
   "execution_count": 14,
   "metadata": {
    "kernel": "SoS"
   },
   "outputs": [],
   "source": [
    "dot_plot = function(dataframe) {\n",
    "  ggplot(dataframe, aes(x=mean_pip, y=observed_freq)) +\n",
    "    geom_errorbar(aes(ymin=observed_freq-se, ymax=observed_freq+se), colour=\"gray\", size = 0.2, width=.01) +\n",
    "    geom_point(size=1.5, shape=21, fill=\"#002b36\") + # 21 is filled circle\n",
    "    xlab(\"Mean PIP\") +\n",
    "    ylab(\"Observed frequency\") +\n",
    "    coord_cartesian(ylim=c(0,1), xlim=c(0,1)) +\n",
    "    geom_abline(slope=1,intercept=0,colour='red', size=0.2) +\n",
    "    ggtitle(name) +\n",
    "    expand_limits(y=0) + \n",
    "    theme_cowplot()\n",
    "}"
   ]
  },
  {
   "cell_type": "code",
   "execution_count": 18,
   "metadata": {
    "kernel": "SoS"
   },
   "outputs": [
    {
     "name": "stderr",
     "output_type": "stream",
     "text": [
      "Warning message:\n",
      "“Removed 4 rows containing missing values (geom_point).”\n",
      "Warning message:\n",
      "“Removed 5 rows containing missing values (geom_point).”\n",
      "Warning message:\n",
      "“Removed 5 rows containing missing values (geom_point).”\n",
      "Warning message:\n",
      "“Removed 3 rows containing missing values (geom_point).”\n"
     ]
    }
   ],
   "source": [
    "for (name in names(res)) {\n",
    "    res[[name]][,3] = sqrt(res[[name]][,2] * (1 - res[[name]][,2]) / res[[name]][,3]) * 2\n",
    "    res[[name]] = as.data.frame(res[[name]])\n",
    "    colnames(res[[name]]) = c(\"mean_pip\", \"observed_freq\", \"se\")\n",
    "    pdf(paste0(\"/home/min/GIT/cnv-gene-mapping/data/deletion_simu_30_shape0.777_scale0.843/\", name, '_' , 'effect.pdf'), width=3, height=3, pointsize=16)\n",
    "    print(dot_plot(res[[name]]))\n",
    "    dev.off()\n",
    "}"
   ]
  },
  {
   "cell_type": "markdown",
   "metadata": {
    "kernel": "SoS"
   },
   "source": [
    "## All blocks\n",
    "- 2290 genes\n",
    "- 528 blocks"
   ]
  },
  {
   "cell_type": "code",
   "execution_count": 8,
   "metadata": {},
   "outputs": [],
   "source": [
    "dat1 = readRDS(\"/home/min/GIT/cnv-gene-mapping/data/deletion_simu_30_shape0.777_scale0.843/PIP_calib_all_block.rds\")"
   ]
  },
  {
   "cell_type": "code",
   "execution_count": 9,
   "metadata": {},
   "outputs": [
    {
     "data": {
      "text/html": [
       "<table>\n",
       "<caption>A data.frame: 6 × 7</caption>\n",
       "<thead>\n",
       "\t<tr><th></th><th scope=col>varbvs_pip</th><th scope=col>susie_pip</th><th scope=col>logit_pip3</th><th scope=col>logit_pip2</th><th scope=col>logit_pip</th><th scope=col>pymc3</th><th scope=col>is_signal</th></tr>\n",
       "\t<tr><th></th><th scope=col>&lt;dbl&gt;</th><th scope=col>&lt;dbl&gt;</th><th scope=col>&lt;dbl&gt;</th><th scope=col>&lt;dbl&gt;</th><th scope=col>&lt;dbl&gt;</th><th scope=col>&lt;dbl&gt;</th><th scope=col>&lt;dbl&gt;</th></tr>\n",
       "</thead>\n",
       "<tbody>\n",
       "\t<tr><th scope=row>0</th><td>0.05422173</td><td>0</td><td>0.01503649</td><td>0.01503649</td><td>0.125</td><td>0.0174</td><td>0</td></tr>\n",
       "\t<tr><th scope=row>1</th><td>0.05421956</td><td>0</td><td>0.01503649</td><td>0.01503649</td><td>0.125</td><td>0.0139</td><td>0</td></tr>\n",
       "\t<tr><th scope=row>2</th><td>0.05421748</td><td>0</td><td>0.01503649</td><td>0.01503649</td><td>0.125</td><td>0.0174</td><td>0</td></tr>\n",
       "\t<tr><th scope=row>3</th><td>0.05421555</td><td>0</td><td>0.01503649</td><td>0.01503649</td><td>0.125</td><td>0.0168</td><td>0</td></tr>\n",
       "\t<tr><th scope=row>4</th><td>0.05421383</td><td>0</td><td>0.01503649</td><td>0.01503649</td><td>0.125</td><td>0.0190</td><td>1</td></tr>\n",
       "\t<tr><th scope=row>5</th><td>0.05421235</td><td>0</td><td>0.01503649</td><td>0.01503649</td><td>0.125</td><td>0.0184</td><td>0</td></tr>\n",
       "</tbody>\n",
       "</table>\n"
      ],
      "text/latex": [
       "A data.frame: 6 × 7\n",
       "\\begin{tabular}{r|lllllll}\n",
       "  & varbvs\\_pip & susie\\_pip & logit\\_pip3 & logit\\_pip2 & logit\\_pip & pymc3 & is\\_signal\\\\\n",
       "  & <dbl> & <dbl> & <dbl> & <dbl> & <dbl> & <dbl> & <dbl>\\\\\n",
       "\\hline\n",
       "\t0 & 0.05422173 & 0 & 0.01503649 & 0.01503649 & 0.125 & 0.0174 & 0\\\\\n",
       "\t1 & 0.05421956 & 0 & 0.01503649 & 0.01503649 & 0.125 & 0.0139 & 0\\\\\n",
       "\t2 & 0.05421748 & 0 & 0.01503649 & 0.01503649 & 0.125 & 0.0174 & 0\\\\\n",
       "\t3 & 0.05421555 & 0 & 0.01503649 & 0.01503649 & 0.125 & 0.0168 & 0\\\\\n",
       "\t4 & 0.05421383 & 0 & 0.01503649 & 0.01503649 & 0.125 & 0.0190 & 1\\\\\n",
       "\t5 & 0.05421235 & 0 & 0.01503649 & 0.01503649 & 0.125 & 0.0184 & 0\\\\\n",
       "\\end{tabular}\n"
      ],
      "text/markdown": [
       "\n",
       "A data.frame: 6 × 7\n",
       "\n",
       "| <!--/--> | varbvs_pip &lt;dbl&gt; | susie_pip &lt;dbl&gt; | logit_pip3 &lt;dbl&gt; | logit_pip2 &lt;dbl&gt; | logit_pip &lt;dbl&gt; | pymc3 &lt;dbl&gt; | is_signal &lt;dbl&gt; |\n",
       "|---|---|---|---|---|---|---|---|\n",
       "| 0 | 0.05422173 | 0 | 0.01503649 | 0.01503649 | 0.125 | 0.0174 | 0 |\n",
       "| 1 | 0.05421956 | 0 | 0.01503649 | 0.01503649 | 0.125 | 0.0139 | 0 |\n",
       "| 2 | 0.05421748 | 0 | 0.01503649 | 0.01503649 | 0.125 | 0.0174 | 0 |\n",
       "| 3 | 0.05421555 | 0 | 0.01503649 | 0.01503649 | 0.125 | 0.0168 | 0 |\n",
       "| 4 | 0.05421383 | 0 | 0.01503649 | 0.01503649 | 0.125 | 0.0190 | 1 |\n",
       "| 5 | 0.05421235 | 0 | 0.01503649 | 0.01503649 | 0.125 | 0.0184 | 0 |\n",
       "\n"
      ],
      "text/plain": [
       "  varbvs_pip susie_pip logit_pip3 logit_pip2 logit_pip pymc3  is_signal\n",
       "0 0.05422173 0         0.01503649 0.01503649 0.125     0.0174 0        \n",
       "1 0.05421956 0         0.01503649 0.01503649 0.125     0.0139 0        \n",
       "2 0.05421748 0         0.01503649 0.01503649 0.125     0.0174 0        \n",
       "3 0.05421555 0         0.01503649 0.01503649 0.125     0.0168 0        \n",
       "4 0.05421383 0         0.01503649 0.01503649 0.125     0.0190 1        \n",
       "5 0.05421235 0         0.01503649 0.01503649 0.125     0.0184 0        "
      ]
     },
     "metadata": {},
     "output_type": "display_data"
    }
   ],
   "source": [
    "head(dat1)"
   ]
  },
  {
   "cell_type": "code",
   "execution_count": 10,
   "metadata": {},
   "outputs": [],
   "source": [
    "pip_cali_1 = calc_pip(dat1)"
   ]
  },
  {
   "cell_type": "code",
   "execution_count": 11,
   "metadata": {},
   "outputs": [
    {
     "data": {
      "text/html": [
       "<style>\n",
       ".list-inline {list-style: none; margin:0; padding: 0}\n",
       ".list-inline>li {display: inline-block}\n",
       ".list-inline>li:not(:last-child)::after {content: \"\\00b7\"; padding: 0 .5ex}\n",
       "</style>\n",
       "<ol class=list-inline><li>'pymc3'</li><li>'logit_pip'</li><li>'logit_pip2'</li><li>'logit_pip3'</li><li>'susie_pip'</li><li>'varbvs_pip'</li></ol>\n"
      ],
      "text/latex": [
       "\\begin{enumerate*}\n",
       "\\item 'pymc3'\n",
       "\\item 'logit\\_pip'\n",
       "\\item 'logit\\_pip2'\n",
       "\\item 'logit\\_pip3'\n",
       "\\item 'susie\\_pip'\n",
       "\\item 'varbvs\\_pip'\n",
       "\\end{enumerate*}\n"
      ],
      "text/markdown": [
       "1. 'pymc3'\n",
       "2. 'logit_pip'\n",
       "3. 'logit_pip2'\n",
       "4. 'logit_pip3'\n",
       "5. 'susie_pip'\n",
       "6. 'varbvs_pip'\n",
       "\n",
       "\n"
      ],
      "text/plain": [
       "[1] \"pymc3\"      \"logit_pip\"  \"logit_pip2\" \"logit_pip3\" \"susie_pip\" \n",
       "[6] \"varbvs_pip\""
      ]
     },
     "metadata": {},
     "output_type": "display_data"
    }
   ],
   "source": [
    "names(pip_cali_1)"
   ]
  },
  {
   "cell_type": "code",
   "execution_count": 12,
   "metadata": {},
   "outputs": [],
   "source": [
    "res1 = list(\"susie\" = get_cali(pip_cali_1, 'susie_pip'),\n",
    "             \"logit\" = get_cali(pip_cali_1, 'logit_pip'),\n",
    "             \"logit_regional\" = get_cali(pip_cali_1, 'logit_pip2'),\n",
    "             \"pymc3\" = get_cali(pip_cali_1, 'pymc3'))"
   ]
  },
  {
   "cell_type": "code",
   "execution_count": 15,
   "metadata": {},
   "outputs": [
    {
     "name": "stderr",
     "output_type": "stream",
     "text": [
      "Warning message:\n",
      "“Removed 1 rows containing missing values (geom_point).”\n"
     ]
    }
   ],
   "source": [
    "for (name in names(res1)) {\n",
    "    res1[[name]][,3] = sqrt(res1[[name]][,2] * (1 - res1[[name]][,2]) / res1[[name]][,3]) * 2\n",
    "    res1[[name]] = as.data.frame(res1[[name]])\n",
    "    colnames(res1[[name]]) = c(\"mean_pip\", \"observed_freq\", \"se\")\n",
    "    pdf(paste0(\"/home/min/GIT/cnv-gene-mapping/data/deletion_simu_30_shape0.777_scale0.843/\", name, '_' , 'all_blocks_10bins.pdf'), width=3, height=3, pointsize=16)\n",
    "    print(dot_plot(res1[[name]]))\n",
    "    dev.off()\n",
    "}"
   ]
  },
  {
   "cell_type": "code",
   "execution_count": null,
   "metadata": {},
   "outputs": [],
   "source": []
  }
 ],
 "metadata": {
  "kernelspec": {
   "display_name": "R",
   "language": "R",
   "name": "ir"
  },
  "language_info": {
   "codemirror_mode": "r",
   "file_extension": ".r",
   "mimetype": "text/x-r-source",
   "name": "R",
   "pygments_lexer": "r",
   "version": "3.6.3"
  },
  "sos": {
   "kernels": [
    [
     "SoS",
     "sos",
     "",
     ""
    ]
   ],
   "version": "0.21.7"
  }
 },
 "nbformat": 4,
 "nbformat_minor": 4
}
