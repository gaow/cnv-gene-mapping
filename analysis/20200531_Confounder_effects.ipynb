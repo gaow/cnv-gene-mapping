{
 "cells": [
  {
   "cell_type": "markdown",
   "metadata": {
    "kernel": "SoS"
   },
   "source": [
    "# Determine possible confounder effects\n",
    "There are 3 possible confounders\n",
    "- Batch effect - region: \"scz_s234_eur\", \"scz_swe1_eur\", \"scz_swe5_eur\", \"scz_swe6_eur\"\n",
    "- Gender\n",
    "- PCA"
   ]
  },
  {
   "cell_type": "code",
   "execution_count": 1,
   "metadata": {
    "kernel": "SoS"
   },
   "outputs": [],
   "source": [
    "import pandas as pd, numpy as np\n",
    "import os\n",
    "from collections import Counter\n",
    "cwd = os.path.expanduser(\"~/GIT/cnv-gene-mapping/data/swcnv\")"
   ]
  },
  {
   "cell_type": "markdown",
   "metadata": {
    "kernel": "SoS"
   },
   "source": [
    "Import phenotype."
   ]
  },
  {
   "cell_type": "code",
   "execution_count": null,
   "metadata": {
    "kernel": "SoS"
   },
   "outputs": [],
   "source": [
    "pheno = pd.read_csv(f\"{cwd}/swcnv.pheno\", header = 0, sep = \"\\s+\", usecols = [0,3])\n",
    "pheno = pheno[pheno[\"SCZ\"] != -9]\n",
    "pheno[\"SCZ\"] = [x-1 for x in pheno[\"SCZ\"]]"
   ]
  },
  {
   "cell_type": "code",
   "execution_count": 3,
   "metadata": {
    "kernel": "SoS"
   },
   "outputs": [
    {
     "data": {
      "text/plain": [
       "Counter({0: 6256, 1: 4978})"
      ]
     },
     "execution_count": 3,
     "metadata": {},
     "output_type": "execute_result"
    }
   ],
   "source": [
    "Counter(pheno[\"SCZ\"])"
   ]
  },
  {
   "cell_type": "markdown",
   "metadata": {
    "kernel": "SoS"
   },
   "source": [
    "## Batch effect: region"
   ]
  },
  {
   "cell_type": "code",
   "execution_count": 4,
   "metadata": {
    "kernel": "SoS"
   },
   "outputs": [],
   "source": [
    "batch = pd.read_csv(f\"{cwd}/swcnv.clusters\", sep = \"\\s+\", usecols = [0,2], header = 0, names = [\"FID\", \"batch\"])\n",
    "batch = pd.merge(pheno, batch, how = \"inner\", on = \"FID\")"
   ]
  },
  {
   "cell_type": "markdown",
   "metadata": {
    "kernel": "SoS"
   },
   "source": [
    "Samples from the Swedish Schizophrenia Study were collected in a multi-year project and genotypes in six batches (sw1-6), paper [description](https://www.sciencedirect.com/science/article/pii/S0092867418306585)\n",
    "\n",
    "         'scz_swe1_eur': 417\n",
    "         'scz_s234_eur': 4299\n",
    "         'scz_swe5_eur': 4376\n",
    "         'scz_swe6_eur': 1999\n"
   ]
  },
  {
   "cell_type": "code",
   "execution_count": 5,
   "metadata": {
    "kernel": "SoS"
   },
   "outputs": [
    {
     "data": {
      "text/plain": [
       "Counter({'scz_swe1_eur': 417,\n",
       "         'scz_s234_eur': 4299,\n",
       "         'scz_swe6_eur': 1999,\n",
       "         'scz_swe5_eur': 4376})"
      ]
     },
     "execution_count": 5,
     "metadata": {},
     "output_type": "execute_result"
    }
   ],
   "source": [
    "Counter(batch[\"batch\"])"
   ]
  },
  {
   "cell_type": "markdown",
   "metadata": {
    "kernel": "SoS"
   },
   "source": [
    "Create a dummy categorical variable \"batch_n\" to stand for batches:\n",
    "\n",
    "        sw1: 0\n",
    "        sw234: 1\n",
    "        sw5: 2\n",
    "        sw6: 3"
   ]
  },
  {
   "cell_type": "code",
   "execution_count": 15,
   "metadata": {
    "kernel": "SoS"
   },
   "outputs": [],
   "source": [
    "batch[\"batch_n\"] = batch[\"batch\"].apply(lambda x: 0 if x == \"scz_s234_eur\" else 1 if x == \"scz_swe1_eur\" else 2 if x == \"scz_swe5_eur\" else 3)"
   ]
  },
  {
   "cell_type": "markdown",
   "metadata": {
    "kernel": "SoS"
   },
   "source": [
    "Create 4 dummy variables \"batch1\" to \"batch4\" to stand for sw1, sw234, sw5, sw6.\n",
    "\n",
    "          batch1    batch2    batch3    batch4\n",
    "    sw1        1         0         0         0\n",
    "    sw234      0         1         0         0\n",
    "    sw5        0         0         1         0\n",
    "    sw6        0         0         0         1"
   ]
  },
  {
   "cell_type": "code",
   "execution_count": 16,
   "metadata": {
    "kernel": "SoS"
   },
   "outputs": [],
   "source": [
    "batch[\"batch1\"] = [1 if x == \"scz_swe1_eur\" else 0 for x in batch[\"batch\"]]\n",
    "batch[\"batch2\"] = [1 if x == \"scz_s234_eur\" else 0 for x in batch[\"batch\"]]\n",
    "batch[\"batch3\"] = [1 if x == \"scz_swe5_eur\" else 0 for x in batch[\"batch\"]]\n",
    "batch[\"batch4\"] = [1 if x == \"scz_swe6_eur\" else 0 for x in batch[\"batch\"]]"
   ]
  },
  {
   "cell_type": "code",
   "execution_count": 17,
   "metadata": {
    "kernel": "SoS"
   },
   "outputs": [
    {
     "data": {
      "text/html": [
       "<div>\n",
       "<style scoped>\n",
       "    .dataframe tbody tr th:only-of-type {\n",
       "        vertical-align: middle;\n",
       "    }\n",
       "\n",
       "    .dataframe tbody tr th {\n",
       "        vertical-align: top;\n",
       "    }\n",
       "\n",
       "    .dataframe thead th {\n",
       "        text-align: right;\n",
       "    }\n",
       "</style>\n",
       "<table border=\"1\" class=\"dataframe\">\n",
       "  <thead>\n",
       "    <tr style=\"text-align: right;\">\n",
       "      <th></th>\n",
       "      <th>FID</th>\n",
       "      <th>SCZ</th>\n",
       "      <th>batch</th>\n",
       "      <th>batch_n</th>\n",
       "      <th>batch1</th>\n",
       "      <th>batch2</th>\n",
       "      <th>batch3</th>\n",
       "      <th>batch4</th>\n",
       "    </tr>\n",
       "  </thead>\n",
       "  <tbody>\n",
       "    <tr>\n",
       "      <th>0</th>\n",
       "      <td>PT-1RTW</td>\n",
       "      <td>0</td>\n",
       "      <td>scz_swe1_eur</td>\n",
       "      <td>1</td>\n",
       "      <td>1</td>\n",
       "      <td>0</td>\n",
       "      <td>0</td>\n",
       "      <td>0</td>\n",
       "    </tr>\n",
       "    <tr>\n",
       "      <th>1</th>\n",
       "      <td>PT-1RTX</td>\n",
       "      <td>0</td>\n",
       "      <td>scz_swe1_eur</td>\n",
       "      <td>1</td>\n",
       "      <td>1</td>\n",
       "      <td>0</td>\n",
       "      <td>0</td>\n",
       "      <td>0</td>\n",
       "    </tr>\n",
       "    <tr>\n",
       "      <th>2</th>\n",
       "      <td>PT-1RTY</td>\n",
       "      <td>0</td>\n",
       "      <td>scz_swe1_eur</td>\n",
       "      <td>1</td>\n",
       "      <td>1</td>\n",
       "      <td>0</td>\n",
       "      <td>0</td>\n",
       "      <td>0</td>\n",
       "    </tr>\n",
       "    <tr>\n",
       "      <th>3</th>\n",
       "      <td>PT-1RTZ</td>\n",
       "      <td>1</td>\n",
       "      <td>scz_swe1_eur</td>\n",
       "      <td>1</td>\n",
       "      <td>1</td>\n",
       "      <td>0</td>\n",
       "      <td>0</td>\n",
       "      <td>0</td>\n",
       "    </tr>\n",
       "    <tr>\n",
       "      <th>4</th>\n",
       "      <td>PT-1RU1</td>\n",
       "      <td>0</td>\n",
       "      <td>scz_swe1_eur</td>\n",
       "      <td>1</td>\n",
       "      <td>1</td>\n",
       "      <td>0</td>\n",
       "      <td>0</td>\n",
       "      <td>0</td>\n",
       "    </tr>\n",
       "  </tbody>\n",
       "</table>\n",
       "</div>"
      ],
      "text/plain": [
       "       FID  SCZ         batch  batch_n  batch1  batch2  batch3  batch4\n",
       "0  PT-1RTW    0  scz_swe1_eur        1       1       0       0       0\n",
       "1  PT-1RTX    0  scz_swe1_eur        1       1       0       0       0\n",
       "2  PT-1RTY    0  scz_swe1_eur        1       1       0       0       0\n",
       "3  PT-1RTZ    1  scz_swe1_eur        1       1       0       0       0\n",
       "4  PT-1RU1    0  scz_swe1_eur        1       1       0       0       0"
      ]
     },
     "execution_count": 17,
     "metadata": {},
     "output_type": "execute_result"
    }
   ],
   "source": [
    "batch.head()"
   ]
  },
  {
   "cell_type": "markdown",
   "metadata": {
    "kernel": "SoS"
   },
   "source": [
    "Use R package glm for logistic regression of possible confounders."
   ]
  },
  {
   "cell_type": "code",
   "execution_count": 18,
   "metadata": {
    "kernel": "R"
   },
   "outputs": [],
   "source": [
    "%get batch"
   ]
  },
  {
   "cell_type": "markdown",
   "metadata": {
    "kernel": "R"
   },
   "source": [
    "### Use dummy categorical varible \"batch_n\" for covariate. \n",
    "- z score: -2.278\n",
    "- p-value: 0.0227"
   ]
  },
  {
   "cell_type": "code",
   "execution_count": 19,
   "metadata": {
    "kernel": "R"
   },
   "outputs": [
    {
     "data": {
      "text/plain": [
       "\n",
       "Call:\n",
       "glm(formula = batch$SCZ ~ batch$batch_n, family = binomial())\n",
       "\n",
       "Deviance Residuals: \n",
       "   Min      1Q  Median      3Q     Max  \n",
       "-1.107  -1.077  -1.062   1.265   1.298  \n",
       "\n",
       "Coefficients:\n",
       "              Estimate Std. Error z value Pr(>|z|)    \n",
       "(Intercept)   -0.16700    0.02933  -5.695 1.24e-08 ***\n",
       "batch$batch_n -0.03721    0.01634  -2.278   0.0227 *  \n",
       "---\n",
       "Signif. codes:  0 ‘***’ 0.001 ‘**’ 0.01 ‘*’ 0.05 ‘.’ 0.1 ‘ ’ 1\n",
       "\n",
       "(Dispersion parameter for binomial family taken to be 1)\n",
       "\n",
       "    Null deviance: 15245  on 11090  degrees of freedom\n",
       "Residual deviance: 15239  on 11089  degrees of freedom\n",
       "AIC: 15243\n",
       "\n",
       "Number of Fisher Scoring iterations: 3\n"
      ]
     },
     "metadata": {},
     "output_type": "display_data"
    }
   ],
   "source": [
    "res = glm(batch$SCZ ~ batch$batch_n, family = binomial())\n",
    "summary(res)"
   ]
  },
  {
   "cell_type": "markdown",
   "metadata": {
    "kernel": "R"
   },
   "source": [
    "### Use 4 dummy variables \"batch1\" to \"batch4\" for covariates.\n",
    "- One of the p-values is 5.41e-07."
   ]
  },
  {
   "cell_type": "code",
   "execution_count": 20,
   "metadata": {
    "kernel": "R"
   },
   "outputs": [
    {
     "data": {
      "text/plain": [
       "\n",
       "Call:\n",
       "glm(formula = batch$SCZ ~ batch$batch1 + batch$batch2 + batch$batch3 + \n",
       "    batch$batch4, family = binomial())\n",
       "\n",
       "Deviance Residuals: \n",
       "   Min      1Q  Median      3Q     Max  \n",
       "-1.196  -1.119  -1.023   1.237   1.340  \n",
       "\n",
       "Coefficients: (1 not defined because of singularities)\n",
       "             Estimate Std. Error z value Pr(>|z|)    \n",
       "(Intercept)  -0.10314    0.04479  -2.303   0.0213 *  \n",
       "batch$batch1  0.14632    0.10772   1.358   0.1744    \n",
       "batch$batch2 -0.03525    0.05423  -0.650   0.5157    \n",
       "batch$batch3 -0.27232    0.05434  -5.011 5.41e-07 ***\n",
       "batch$batch4       NA         NA      NA       NA    \n",
       "---\n",
       "Signif. codes:  0 ‘***’ 0.001 ‘**’ 0.01 ‘*’ 0.05 ‘.’ 0.1 ‘ ’ 1\n",
       "\n",
       "(Dispersion parameter for binomial family taken to be 1)\n",
       "\n",
       "    Null deviance: 15245  on 11090  degrees of freedom\n",
       "Residual deviance: 15198  on 11087  degrees of freedom\n",
       "AIC: 15206\n",
       "\n",
       "Number of Fisher Scoring iterations: 4\n"
      ]
     },
     "metadata": {},
     "output_type": "display_data"
    }
   ],
   "source": [
    "res1 = glm(batch$SCZ ~ batch$batch1 + batch$batch2 + batch$batch3 + batch$batch4, family = binomial())\n",
    "summary(res1)"
   ]
  },
  {
   "cell_type": "markdown",
   "metadata": {
    "kernel": "SoS"
   },
   "source": [
    "## Gender\n",
    "- Male: 5697\n",
    "- Female: 4629"
   ]
  },
  {
   "cell_type": "code",
   "execution_count": 21,
   "metadata": {
    "kernel": "SoS"
   },
   "outputs": [],
   "source": [
    "gender = pd.read_table(f\"{cwd}/swcnv.qc6.fam\", sep=\"\\s+\", header = None, usecols = (0,4,5), names = [\"FID\", \"sex\", \"pheno\"])\n",
    "gender[\"pheno\"] = [x-1 for x in gender[\"pheno\"]]\n",
    "gender[\"sex\"] = [x-1 for x in gender[\"sex\"]]"
   ]
  },
  {
   "cell_type": "code",
   "execution_count": 22,
   "metadata": {
    "kernel": "SoS"
   },
   "outputs": [],
   "source": [
    "gender = pd.merge(pheno, gender[[\"FID\", \"sex\"]], how = \"inner\", on = \"FID\")"
   ]
  },
  {
   "cell_type": "code",
   "execution_count": 23,
   "metadata": {
    "kernel": "SoS"
   },
   "outputs": [
    {
     "data": {
      "text/plain": [
       "Counter({0: 5697, 1: 4629})"
      ]
     },
     "execution_count": 23,
     "metadata": {},
     "output_type": "execute_result"
    }
   ],
   "source": [
    "Counter(gender[\"sex\"])"
   ]
  },
  {
   "cell_type": "markdown",
   "metadata": {
    "kernel": "SoS"
   },
   "source": [
    "### Use covariate \"gender\"\n",
    "- z score: -8.801\n",
    "- p-value: < 2e-16"
   ]
  },
  {
   "cell_type": "code",
   "execution_count": 24,
   "metadata": {
    "kernel": "R"
   },
   "outputs": [],
   "source": [
    "%get gender"
   ]
  },
  {
   "cell_type": "code",
   "execution_count": 25,
   "metadata": {
    "kernel": "R"
   },
   "outputs": [
    {
     "data": {
      "text/plain": [
       "\n",
       "Call:\n",
       "glm(formula = gender$SCZ ~ gender$sex, family = binomial())\n",
       "\n",
       "Deviance Residuals: \n",
       "   Min      1Q  Median      3Q     Max  \n",
       "-1.146  -1.146  -1.002   1.209   1.364  \n",
       "\n",
       "Coefficients:\n",
       "            Estimate Std. Error z value Pr(>|z|)    \n",
       "(Intercept) -0.07481    0.02652  -2.821  0.00478 ** \n",
       "gender$sex  -0.35285    0.04009  -8.801  < 2e-16 ***\n",
       "---\n",
       "Signif. codes:  0 ‘***’ 0.001 ‘**’ 0.01 ‘*’ 0.05 ‘.’ 0.1 ‘ ’ 1\n",
       "\n",
       "(Dispersion parameter for binomial family taken to be 1)\n",
       "\n",
       "    Null deviance: 14178  on 10325  degrees of freedom\n",
       "Residual deviance: 14100  on 10324  degrees of freedom\n",
       "AIC: 14104\n",
       "\n",
       "Number of Fisher Scoring iterations: 4\n"
      ]
     },
     "metadata": {},
     "output_type": "display_data"
    }
   ],
   "source": [
    "res2 = glm(gender$SCZ ~ gender$sex, family = binomial())\n",
    "summary(res2)"
   ]
  },
  {
   "cell_type": "markdown",
   "metadata": {
    "kernel": "SoS"
   },
   "source": [
    "## PCA\n",
    "mds: multidimensional scaling on Euclidean distance."
   ]
  },
  {
   "cell_type": "code",
   "execution_count": 28,
   "metadata": {
    "kernel": "SoS"
   },
   "outputs": [
    {
     "data": {
      "text/html": [
       "<div>\n",
       "<style scoped>\n",
       "    .dataframe tbody tr th:only-of-type {\n",
       "        vertical-align: middle;\n",
       "    }\n",
       "\n",
       "    .dataframe tbody tr th {\n",
       "        vertical-align: top;\n",
       "    }\n",
       "\n",
       "    .dataframe thead th {\n",
       "        text-align: right;\n",
       "    }\n",
       "</style>\n",
       "<table border=\"1\" class=\"dataframe\">\n",
       "  <thead>\n",
       "    <tr style=\"text-align: right;\">\n",
       "      <th></th>\n",
       "      <th>FID</th>\n",
       "      <th>SCZ</th>\n",
       "      <th>C1</th>\n",
       "      <th>C2</th>\n",
       "      <th>C3</th>\n",
       "      <th>C4</th>\n",
       "      <th>C5</th>\n",
       "      <th>C6</th>\n",
       "      <th>C7</th>\n",
       "      <th>C8</th>\n",
       "      <th>C9</th>\n",
       "      <th>C10</th>\n",
       "    </tr>\n",
       "  </thead>\n",
       "  <tbody>\n",
       "    <tr>\n",
       "      <th>0</th>\n",
       "      <td>PT-1RTW</td>\n",
       "      <td>0</td>\n",
       "      <td>-0.008445</td>\n",
       "      <td>0.005512</td>\n",
       "      <td>0.001230</td>\n",
       "      <td>0.002499</td>\n",
       "      <td>0.009046</td>\n",
       "      <td>0.000775</td>\n",
       "      <td>0.002276</td>\n",
       "      <td>-0.001839</td>\n",
       "      <td>0.003567</td>\n",
       "      <td>-0.004050</td>\n",
       "    </tr>\n",
       "    <tr>\n",
       "      <th>1</th>\n",
       "      <td>PT-1RTX</td>\n",
       "      <td>0</td>\n",
       "      <td>0.002004</td>\n",
       "      <td>-0.004334</td>\n",
       "      <td>-0.001712</td>\n",
       "      <td>0.003688</td>\n",
       "      <td>0.000497</td>\n",
       "      <td>0.006221</td>\n",
       "      <td>-0.009228</td>\n",
       "      <td>-0.001324</td>\n",
       "      <td>-0.002098</td>\n",
       "      <td>0.000272</td>\n",
       "    </tr>\n",
       "    <tr>\n",
       "      <th>2</th>\n",
       "      <td>PT-1RTY</td>\n",
       "      <td>0</td>\n",
       "      <td>0.015069</td>\n",
       "      <td>0.001424</td>\n",
       "      <td>-0.002671</td>\n",
       "      <td>0.001604</td>\n",
       "      <td>0.000752</td>\n",
       "      <td>0.003769</td>\n",
       "      <td>-0.001655</td>\n",
       "      <td>-0.000050</td>\n",
       "      <td>-0.000774</td>\n",
       "      <td>-0.000185</td>\n",
       "    </tr>\n",
       "    <tr>\n",
       "      <th>3</th>\n",
       "      <td>PT-1RTZ</td>\n",
       "      <td>1</td>\n",
       "      <td>0.001040</td>\n",
       "      <td>-0.005950</td>\n",
       "      <td>-0.001848</td>\n",
       "      <td>-0.004309</td>\n",
       "      <td>-0.007455</td>\n",
       "      <td>0.002835</td>\n",
       "      <td>-0.012960</td>\n",
       "      <td>-0.005529</td>\n",
       "      <td>0.004817</td>\n",
       "      <td>-0.011632</td>\n",
       "    </tr>\n",
       "    <tr>\n",
       "      <th>4</th>\n",
       "      <td>PT-1RU1</td>\n",
       "      <td>0</td>\n",
       "      <td>-0.002875</td>\n",
       "      <td>-0.001082</td>\n",
       "      <td>-0.002621</td>\n",
       "      <td>0.002374</td>\n",
       "      <td>-0.000494</td>\n",
       "      <td>0.004072</td>\n",
       "      <td>-0.003412</td>\n",
       "      <td>-0.000758</td>\n",
       "      <td>-0.003522</td>\n",
       "      <td>0.002001</td>\n",
       "    </tr>\n",
       "  </tbody>\n",
       "</table>\n",
       "</div>"
      ],
      "text/plain": [
       "       FID  SCZ        C1        C2  ...        C7        C8        C9       C10\n",
       "0  PT-1RTW    0 -0.008445  0.005512  ...  0.002276 -0.001839  0.003567 -0.004050\n",
       "1  PT-1RTX    0  0.002004 -0.004334  ... -0.009228 -0.001324 -0.002098  0.000272\n",
       "2  PT-1RTY    0  0.015069  0.001424  ... -0.001655 -0.000050 -0.000774 -0.000185\n",
       "3  PT-1RTZ    1  0.001040 -0.005950  ... -0.012960 -0.005529  0.004817 -0.011632\n",
       "4  PT-1RU1    0 -0.002875 -0.001082  ... -0.003412 -0.000758 -0.003522  0.002001\n",
       "\n",
       "[5 rows x 12 columns]"
      ]
     },
     "execution_count": 28,
     "metadata": {},
     "output_type": "execute_result"
    }
   ],
   "source": [
    "mds = pd.read_table(f\"{cwd}/swcnv.mds\", sep=\"\\s+\", usecols = [0,3,4,5,6,7,8,9,10,11,12])\n",
    "mds = pd.merge(pheno, mds, how = \"inner\", on = \"FID\")\n",
    "mds.head()"
   ]
  },
  {
   "cell_type": "code",
   "execution_count": 36,
   "metadata": {
    "kernel": "SoS"
   },
   "outputs": [
    {
     "data": {
      "text/plain": [
       "(11112, 12)"
      ]
     },
     "execution_count": 36,
     "metadata": {},
     "output_type": "execute_result"
    }
   ],
   "source": [
    "mds.shape"
   ]
  },
  {
   "cell_type": "markdown",
   "metadata": {
    "kernel": "SoS"
   },
   "source": [
    "### Use all 10 eigenvectors\n",
    "There first 4 are significant by p-value threhold of 0.001."
   ]
  },
  {
   "cell_type": "code",
   "execution_count": 29,
   "metadata": {
    "kernel": "R"
   },
   "outputs": [],
   "source": [
    "%get mds"
   ]
  },
  {
   "cell_type": "code",
   "execution_count": 32,
   "metadata": {
    "kernel": "R"
   },
   "outputs": [],
   "source": [
    "res3 = glm(mds$SCZ ~ mds$C1 + mds$C2 + mds$C3 + mds$C4 + mds$C5 + mds$C6 + mds$C7 + mds$C8 + mds$C9 + mds$C10, family = binomial())"
   ]
  },
  {
   "cell_type": "code",
   "execution_count": 33,
   "metadata": {
    "kernel": "R"
   },
   "outputs": [
    {
     "data": {
      "text/plain": [
       "\n",
       "Call:\n",
       "glm(formula = mds$SCZ ~ mds$C1 + mds$C2 + mds$C3 + mds$C4 + mds$C5 + \n",
       "    mds$C6 + mds$C7 + mds$C8 + mds$C9 + mds$C10, family = binomial())\n",
       "\n",
       "Deviance Residuals: \n",
       "    Min       1Q   Median       3Q      Max  \n",
       "-2.6544  -1.0548  -0.9341   1.2707   1.6321  \n",
       "\n",
       "Coefficients:\n",
       "            Estimate Std. Error z value Pr(>|z|)    \n",
       "(Intercept)  -0.2244     0.0194 -11.571  < 2e-16 ***\n",
       "mds$C1       36.0621     2.2357  16.130  < 2e-16 ***\n",
       "mds$C2      -13.6085     3.2043  -4.247 2.17e-05 ***\n",
       "mds$C3      -13.6412     3.3294  -4.097 4.18e-05 ***\n",
       "mds$C4       16.7767     4.1443   4.048 5.16e-05 ***\n",
       "mds$C5        3.7912     3.8056   0.996    0.319    \n",
       "mds$C6       -8.6163     4.0418  -2.132    0.033 *  \n",
       "mds$C7        0.7361     4.1746   0.176    0.860    \n",
       "mds$C8        6.2205     4.2996   1.447    0.148    \n",
       "mds$C9        1.3255     4.4080   0.301    0.764    \n",
       "mds$C10      -0.1356     4.5557  -0.030    0.976    \n",
       "---\n",
       "Signif. codes:  0 ‘***’ 0.001 ‘**’ 0.01 ‘*’ 0.05 ‘.’ 0.1 ‘ ’ 1\n",
       "\n",
       "(Dispersion parameter for binomial family taken to be 1)\n",
       "\n",
       "    Null deviance: 15265  on 11111  degrees of freedom\n",
       "Residual deviance: 14930  on 11101  degrees of freedom\n",
       "AIC: 14952\n",
       "\n",
       "Number of Fisher Scoring iterations: 4\n"
      ]
     },
     "metadata": {},
     "output_type": "display_data"
    }
   ],
   "source": [
    "summary(res3)"
   ]
  },
  {
   "cell_type": "code",
   "execution_count": null,
   "metadata": {
    "kernel": "R"
   },
   "outputs": [],
   "source": []
  }
 ],
 "metadata": {
  "kernelspec": {
   "display_name": "SoS",
   "language": "sos",
   "name": "sos"
  },
  "language_info": {
   "codemirror_mode": "sos",
   "file_extension": ".sos",
   "mimetype": "text/x-sos",
   "name": "sos",
   "nbconvert_exporter": "sos_notebook.converter.SoS_Exporter",
   "pygments_lexer": "sos"
  },
  "sos": {
   "kernels": [
    [
     "SoS",
     "sos",
     "",
     ""
    ]
   ],
   "version": "0.21.7"
  }
 },
 "nbformat": 4,
 "nbformat_minor": 4
}
